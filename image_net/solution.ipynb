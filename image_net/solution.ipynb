{
 "cells": [
  {
   "cell_type": "code",
   "execution_count": 1,
   "metadata": {},
   "outputs": [],
   "source": [
    "%config IPCompleter.greedy=True\n",
    "from tensorflow.python.keras.preprocessing import image as pimage\n",
    "from tensorflow.python.keras.applications.inception_v3 import *\n",
    "from tensorflow.python.keras.layers import Flatten\n",
    "from tensorflow.python.keras.models import Model\n",
    "import numpy as np\n",
    "import os"
   ]
  },
  {
   "cell_type": "code",
   "execution_count": 2,
   "metadata": {},
   "outputs": [],
   "source": [
    "# def parse_data_inception(data):\n",
    "inception = InceptionV3(include_top=False, weights='imagenet', \n",
    "                        input_tensor=None, input_shape=None, pooling=\"max\")\n",
    "\n",
    "preds = Flatten()(inception.output)\n",
    "model = Model(inception.input, preds)"
   ]
  },
  {
   "cell_type": "code",
   "execution_count": 3,
   "metadata": {},
   "outputs": [],
   "source": [
    "class1_path = '/home/nerses/Desktop/ml/3rd part/ml_homework/image_net/tiny-imagenet-200/train/n01774750/images'\n",
    "class2_path = '/home/nerses/Desktop/ml/3rd part/ml_homework/image_net/tiny-imagenet-200/train/n01983481/images'\n"
   ]
  },
  {
   "cell_type": "code",
   "execution_count": 4,
   "metadata": {},
   "outputs": [],
   "source": [
    "# model.summary()"
   ]
  },
  {
   "cell_type": "code",
   "execution_count": 5,
   "metadata": {},
   "outputs": [
    {
     "name": "stdout",
     "output_type": "stream",
     "text": [
      "[Errno 17] File exists: 'c1'\n",
      "[Errno 17] File exists: 'c2'\n"
     ]
    }
   ],
   "source": [
    "def parse(path_in, path_out):\n",
    "    try:\n",
    "        os.mkdir(path_out)\n",
    "    except Exception as e:\n",
    "        print(e)\n",
    "    \n",
    "    for image in os.listdir(path_in):\n",
    "        file = os.path.join(path_in,image)\n",
    "        img = pimage.load_img(file, target_size=(299, 299))\n",
    "        x = pimage.img_to_array(img)\n",
    "        x = np.expand_dims(x, axis=0)\n",
    "        x = preprocess_input(x)\n",
    "        y = model.predict(x).squeeze()\n",
    "        np.save(os.path.join(path_out,image[:-5]), y)\n",
    "\n",
    "parse(class1_path, 'c1')\n",
    "parse(class2_path, 'c2')\n",
    "    "
   ]
  },
  {
   "cell_type": "code",
   "execution_count": 6,
   "metadata": {},
   "outputs": [],
   "source": [
    "from sklearn.cluster import KMeans, MiniBatchKMeans, AgglomerativeClustering, DBSCAN"
   ]
  },
  {
   "cell_type": "code",
   "execution_count": 7,
   "metadata": {},
   "outputs": [],
   "source": [
    "data1 = np.array([np.load(os.path.join('c1',npy)) for npy in os.listdir('c1')])\n",
    "data2 = np.array([np.load(os.path.join('c2',npy)) for npy in os.listdir('c2')])\n"
   ]
  },
  {
   "cell_type": "code",
   "execution_count": 8,
   "metadata": {},
   "outputs": [
    {
     "data": {
      "text/plain": [
       "(1000, 2048)"
      ]
     },
     "execution_count": 8,
     "metadata": {},
     "output_type": "execute_result"
    }
   ],
   "source": [
    "data = np.concatenate([data1,data2],axis=0)\n",
    "data.shape"
   ]
  },
  {
   "cell_type": "code",
   "execution_count": 9,
   "metadata": {},
   "outputs": [],
   "source": [
    "cluster = KMeans(n_clusters=2, random_state=0).fit(data)"
   ]
  },
  {
   "cell_type": "code",
   "execution_count": 10,
   "metadata": {},
   "outputs": [
    {
     "name": "stdout",
     "output_type": "stream",
     "text": [
      "63.2\n",
      "50.2\n"
     ]
    }
   ],
   "source": [
    "# this is percentage of right guesses for each class\n",
    "\n",
    "print(len(cluster.labels_[:500][cluster.labels_[:500]==0])/5)\n",
    "print(len(cluster.labels_[500:][cluster.labels_[500:]==1])/5)"
   ]
  },
  {
   "cell_type": "code",
   "execution_count": 11,
   "metadata": {},
   "outputs": [
    {
     "data": {
      "text/plain": [
       "(array([-1,  0,  1]), array([958,  35,   7]))"
      ]
     },
     "execution_count": 11,
     "metadata": {},
     "output_type": "execute_result"
    }
   ],
   "source": [
    "dbs = DBSCAN(eps=40, min_samples=3).fit(data)\n",
    "np.unique(dbs.labels_, return_counts=True)\n"
   ]
  },
  {
   "cell_type": "code",
   "execution_count": 12,
   "metadata": {},
   "outputs": [
    {
     "name": "stdout",
     "output_type": "stream",
     "text": [
      "7.0\n",
      "1.4\n"
     ]
    }
   ],
   "source": [
    "# print(len(dbs.labels_[:500][dbs.labels_[:500]==1])/5)\n",
    "# print(len(dbs.labels_[500:][dbs.labels_[500:]==0])/5)\n",
    "\n",
    "print(len(dbs.labels_[:500][dbs.labels_[:500]==0])/5)\n",
    "print(len(dbs.labels_[500:][dbs.labels_[500:]==1])/5)"
   ]
  },
  {
   "cell_type": "code",
   "execution_count": 13,
   "metadata": {},
   "outputs": [
    {
     "data": {
      "text/plain": [
       "HDBSCAN(algorithm='best', allow_single_cluster=False, alpha=1.0,\n",
       "    approx_min_span_tree=True, cluster_selection_method='eom',\n",
       "    core_dist_n_jobs=4, gen_min_span_tree=True, leaf_size=40,\n",
       "    match_reference_implementation=False, memory=Memory(cachedir=None),\n",
       "    metric='euclidean', min_cluster_size=4, min_samples=None, p=None,\n",
       "    prediction_data=False)"
      ]
     },
     "execution_count": 13,
     "metadata": {},
     "output_type": "execute_result"
    }
   ],
   "source": [
    "import hdbscan\n",
    "clusterer = hdbscan.HDBSCAN(min_cluster_size=4, gen_min_span_tree=True)\n",
    "clusterer.fit(data)"
   ]
  },
  {
   "cell_type": "code",
   "execution_count": 14,
   "metadata": {},
   "outputs": [
    {
     "name": "stdout",
     "output_type": "stream",
     "text": [
      "17.2\n",
      "4.8\n"
     ]
    }
   ],
   "source": [
    "# print(len(clusterer.labels_[:500][clusterer.labels_[:500]==1])/5)\n",
    "# print(len(clusterer.labels_[500:][clusterer.labels_[500:]==0])/5)\n",
    "\n",
    "print(len(clusterer.labels_[:500][clusterer.labels_[:500]==0])/5)\n",
    "print(len(clusterer.labels_[500:][clusterer.labels_[500:]==1])/5)"
   ]
  },
  {
   "cell_type": "code",
   "execution_count": 15,
   "metadata": {},
   "outputs": [],
   "source": [
    "agl = AgglomerativeClustering(n_clusters=2, linkage=\"ward\").fit(data)"
   ]
  },
  {
   "cell_type": "code",
   "execution_count": 16,
   "metadata": {},
   "outputs": [
    {
     "name": "stdout",
     "output_type": "stream",
     "text": [
      "45.6\n",
      "99.4\n"
     ]
    }
   ],
   "source": [
    "\n",
    "print(len(agl.labels_[:500][agl.labels_[:500]==1])/5)\n",
    "print(len(agl.labels_[500:][agl.labels_[500:]==0])/5)"
   ]
  },
  {
   "cell_type": "code",
   "execution_count": 17,
   "metadata": {},
   "outputs": [],
   "source": [
    "# results are bad becacuse of choosing small dataset i guess, ill try the same for bigger one later\n",
    "# dataset is tinyimagenet"
   ]
  }
 ],
 "metadata": {
  "kernelspec": {
   "display_name": "Python 3",
   "language": "python",
   "name": "python3"
  },
  "language_info": {
   "codemirror_mode": {
    "name": "ipython",
    "version": 3
   },
   "file_extension": ".py",
   "mimetype": "text/x-python",
   "name": "python",
   "nbconvert_exporter": "python",
   "pygments_lexer": "ipython3",
   "version": "3.5.2"
  }
 },
 "nbformat": 4,
 "nbformat_minor": 2
}
