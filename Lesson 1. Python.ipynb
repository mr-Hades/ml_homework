{
 "cells": [
  {
   "cell_type": "markdown",
   "metadata": {},
   "source": [
    "# Function"
   ]
  },
  {
   "cell_type": "markdown",
   "metadata": {},
   "source": [
    "### Common usage"
   ]
  },
  {
   "cell_type": "code",
   "execution_count": 2,
   "metadata": {},
   "outputs": [
    {
     "name": "stdout",
     "output_type": "stream",
     "text": [
      "Name:  miki\n",
      "Age  50\n"
     ]
    }
   ],
   "source": [
    "def printinfo(name, age = 35):\n",
    "    \"This prints a passed info into this function\"\n",
    "    print(\"Name: \", name)\n",
    "    print(\"Age \", age)\n",
    "    return\n",
    "\n",
    "# Now you can call printinfo function\n",
    "printinfo( age=50, name=\"miki\" )"
   ]
  },
  {
   "cell_type": "markdown",
   "metadata": {},
   "source": [
    "### Function attributes"
   ]
  },
  {
   "cell_type": "code",
   "execution_count": 5,
   "metadata": {},
   "outputs": [
    {
     "data": {
      "text/plain": [
       "['__annotations__',\n",
       " '__call__',\n",
       " '__class__',\n",
       " '__closure__',\n",
       " '__code__',\n",
       " '__defaults__',\n",
       " '__delattr__',\n",
       " '__dict__',\n",
       " '__dir__',\n",
       " '__doc__',\n",
       " '__eq__',\n",
       " '__format__',\n",
       " '__ge__',\n",
       " '__get__',\n",
       " '__getattribute__',\n",
       " '__globals__',\n",
       " '__gt__',\n",
       " '__hash__',\n",
       " '__init__',\n",
       " '__kwdefaults__',\n",
       " '__le__',\n",
       " '__lt__',\n",
       " '__module__',\n",
       " '__name__',\n",
       " '__ne__',\n",
       " '__new__',\n",
       " '__qualname__',\n",
       " '__reduce__',\n",
       " '__reduce_ex__',\n",
       " '__repr__',\n",
       " '__setattr__',\n",
       " '__sizeof__',\n",
       " '__str__',\n",
       " '__subclasshook__']"
      ]
     },
     "execution_count": 5,
     "metadata": {},
     "output_type": "execute_result"
    }
   ],
   "source": [
    "def foo(x:int, y=5):\n",
    "    \"\"\"\n",
    "    description\n",
    "    \"\"\"\n",
    "    return x\n",
    "\n",
    "dir(foo)\n",
    "# foo.__doc__"
   ]
  },
  {
   "cell_type": "code",
   "execution_count": 6,
   "metadata": {},
   "outputs": [],
   "source": [
    "assert set(foo.__dir__()) == set(dir(foo))"
   ]
  },
  {
   "cell_type": "code",
   "execution_count": 3,
   "metadata": {},
   "outputs": [
    {
     "name": "stdout",
     "output_type": "stream",
     "text": [
      "__repr__ \t <method-wrapper '__repr__' of method-wrapper object at 0x7f434d0af7b8>\n",
      "__call__ \t <method-wrapper '__repr__' of method-wrapper object at 0x7f434d0af780>\n",
      "__get__ \t <method-wrapper '__repr__' of method-wrapper object at 0x7f434d0af780>\n",
      "__new__ \t <method-wrapper '__repr__' of builtin_function_or_method object at 0x7f435964bab0>\n",
      "__closure__ \t <method-wrapper '__repr__' of NoneType object at 0x9dfba0>\n",
      "__doc__ \t <method-wrapper '__repr__' of str object at 0x7f434d092c00>\n",
      "__globals__ \t <method-wrapper '__repr__' of dict object at 0x7f4350a03ca8>\n",
      "__module__ \t <method-wrapper '__repr__' of str object at 0x7f43595226f0>\n",
      "__code__ \t <method-wrapper '__repr__' of code object at 0x7f43509c9c90>\n",
      "__defaults__ \t <method-wrapper '__repr__' of tuple object at 0x7f434d172b70>\n",
      "__kwdefaults__ \t <method-wrapper '__repr__' of NoneType object at 0x9dfba0>\n",
      "__annotations__ \t <method-wrapper '__repr__' of dict object at 0x7f434d0a4510>\n",
      "__dict__ \t <method-wrapper '__repr__' of dict object at 0x7f434d0a4558>\n",
      "__name__ \t <method-wrapper '__repr__' of str object at 0x7f43561886c0>\n",
      "__qualname__ \t <method-wrapper '__repr__' of str object at 0x7f43561886c0>\n",
      "__hash__ \t <method-wrapper '__repr__' of method-wrapper object at 0x7f434d167e10>\n",
      "__str__ \t <method-wrapper '__repr__' of method-wrapper object at 0x7f434d167e10>\n",
      "__getattribute__ \t <method-wrapper '__repr__' of method-wrapper object at 0x7f434d167e10>\n",
      "__setattr__ \t <method-wrapper '__repr__' of method-wrapper object at 0x7f434d167e10>\n",
      "__delattr__ \t <method-wrapper '__repr__' of method-wrapper object at 0x7f434d167e10>\n",
      "__lt__ \t <method-wrapper '__repr__' of method-wrapper object at 0x7f434d167e10>\n",
      "__le__ \t <method-wrapper '__repr__' of method-wrapper object at 0x7f434d167e10>\n",
      "__eq__ \t <method-wrapper '__repr__' of method-wrapper object at 0x7f434d167e10>\n",
      "__ne__ \t <method-wrapper '__repr__' of method-wrapper object at 0x7f434d167e10>\n",
      "__gt__ \t <method-wrapper '__repr__' of method-wrapper object at 0x7f434d167e10>\n",
      "__ge__ \t <method-wrapper '__repr__' of method-wrapper object at 0x7f434d167e10>\n",
      "__init__ \t <method-wrapper '__repr__' of method-wrapper object at 0x7f434d167e10>\n",
      "__reduce_ex__ \t <method-wrapper '__repr__' of builtin_function_or_method object at 0x7f435547b5a0>\n",
      "__reduce__ \t <method-wrapper '__repr__' of builtin_function_or_method object at 0x7f435547b5a0>\n",
      "__subclasshook__ \t <method-wrapper '__repr__' of builtin_function_or_method object at 0x7f435547b5a0>\n",
      "__init_subclass__ \t <method-wrapper '__repr__' of builtin_function_or_method object at 0x7f435547b5a0>\n",
      "__format__ \t <method-wrapper '__repr__' of builtin_function_or_method object at 0x7f435547b5a0>\n",
      "__sizeof__ \t <method-wrapper '__repr__' of builtin_function_or_method object at 0x7f435547b5a0>\n",
      "__dir__ \t <method-wrapper '__repr__' of builtin_function_or_method object at 0x7f435547b5a0>\n",
      "__class__ \t <slot wrapper '__repr__' of 'function' objects>\n"
     ]
    }
   ],
   "source": [
    "for method in foo.__dir__():\n",
    "    print(\"{} \\t {}\".format(method, foo.__getattribute__(method).__repr__))"
   ]
  },
  {
   "cell_type": "code",
   "execution_count": 7,
   "metadata": {},
   "outputs": [
    {
     "data": {
      "text/plain": [
       "({'x': int}, (5,), None)"
      ]
     },
     "execution_count": 7,
     "metadata": {},
     "output_type": "execute_result"
    }
   ],
   "source": [
    "# Closured lexical environments are stored in the property __closure__ of a function\n",
    "# If a function does not use free variables it doesn't form a closure\n",
    "\n",
    "foo.__annotations__, foo.__defaults__, foo.__closure__"
   ]
  },
  {
   "cell_type": "code",
   "execution_count": 9,
   "metadata": {},
   "outputs": [],
   "source": [
    "foo.__call__\n",
    "\n",
    "def foo():\n",
    "    return 5\n",
    "assert foo() == 5\n",
    "assert foo.__call__() == 5\n",
    "\n",
    "foo.__call__ = lambda : 6\n",
    "assert foo() == 5\n",
    "assert foo.__call__() == 6"
   ]
  },
  {
   "cell_type": "code",
   "execution_count": 10,
   "metadata": {},
   "outputs": [
    {
     "data": {
      "text/plain": [
       "function"
      ]
     },
     "execution_count": 10,
     "metadata": {},
     "output_type": "execute_result"
    }
   ],
   "source": [
    "# Defined for any object in python. func.__class__ == function\n",
    "foo.__class__"
   ]
  },
  {
   "cell_type": "code",
   "execution_count": 11,
   "metadata": {},
   "outputs": [
    {
     "data": {
      "text/plain": [
       "<code object foo at 0x7fb3a84b0810, file \"<ipython-input-9-e5f81bc2fd4d>\", line 3>"
      ]
     },
     "execution_count": 11,
     "metadata": {},
     "output_type": "execute_result"
    }
   ],
   "source": [
    "# inspect function inner code\n",
    "foo.__code__"
   ]
  },
  {
   "cell_type": "code",
   "execution_count": 12,
   "metadata": {},
   "outputs": [],
   "source": [
    "foo.__setattr__('myattr', 5)"
   ]
  },
  {
   "cell_type": "code",
   "execution_count": 13,
   "metadata": {},
   "outputs": [],
   "source": [
    "assert 'myattr' in foo.__dir__()\n",
    "\n",
    "assert foo.myattr is foo.__getattribute__('myattr')\n",
    "assert foo.__dict__ is foo.__getattribute__('__dict__')\n",
    "\n",
    "foo.__delattr__('myattr')\n",
    "assert 'myattr' not in foo.__dir__()"
   ]
  },
  {
   "cell_type": "code",
   "execution_count": 15,
   "metadata": {},
   "outputs": [],
   "source": [
    "foo.__doc__"
   ]
  },
  {
   "cell_type": "code",
   "execution_count": 16,
   "metadata": {},
   "outputs": [
    {
     "data": {
      "text/plain": [
       "('<function foo at 0x7fb3a84bc268>', '<function foo at 0x7fb3a84bc268>')"
      ]
     },
     "execution_count": 16,
     "metadata": {},
     "output_type": "execute_result"
    }
   ],
   "source": [
    "foo.__str__(), foo.__repr__()"
   ]
  },
  {
   "cell_type": "markdown",
   "metadata": {},
   "source": [
    "### Common mistake"
   ]
  },
  {
   "cell_type": "code",
   "execution_count": 17,
   "metadata": {},
   "outputs": [
    {
     "name": "stdout",
     "output_type": "stream",
     "text": [
      "[0, 2]\n"
     ]
    }
   ],
   "source": [
    "def func(a=None):\n",
    "    if a is None:\n",
    "        a = list()\n",
    "    a.append(2)\n",
    "    return a\n",
    "\n",
    "a = [0]\n",
    "func(a)\n",
    "print(a)"
   ]
  },
  {
   "cell_type": "code",
   "execution_count": 18,
   "metadata": {},
   "outputs": [
    {
     "name": "stdout",
     "output_type": "stream",
     "text": [
      "[2]\n",
      "[2]\n"
     ]
    }
   ],
   "source": [
    "print(func())\n",
    "print(func())"
   ]
  },
  {
   "cell_type": "code",
   "execution_count": 19,
   "metadata": {},
   "outputs": [
    {
     "data": {
      "text/plain": [
       "(None,)"
      ]
     },
     "execution_count": 19,
     "metadata": {},
     "output_type": "execute_result"
    }
   ],
   "source": [
    "func.__defaults__"
   ]
  },
  {
   "cell_type": "code",
   "execution_count": 20,
   "metadata": {},
   "outputs": [],
   "source": [
    "def func(a=5):\n",
    "    a += 2\n",
    "    return a"
   ]
  },
  {
   "cell_type": "code",
   "execution_count": 21,
   "metadata": {},
   "outputs": [
    {
     "name": "stdout",
     "output_type": "stream",
     "text": [
      "7\n",
      "7\n"
     ]
    }
   ],
   "source": [
    "print(func())\n",
    "print(func())"
   ]
  },
  {
   "cell_type": "code",
   "execution_count": null,
   "metadata": {},
   "outputs": [],
   "source": []
  },
  {
   "cell_type": "markdown",
   "metadata": {},
   "source": [
    "### Function decorators"
   ]
  },
  {
   "cell_type": "code",
   "execution_count": 22,
   "metadata": {},
   "outputs": [
    {
     "name": "stdout",
     "output_type": "stream",
     "text": [
      "Something interesting happens with x = arg\n",
      "\n",
      "\n",
      "Wow! x = another_arg\n"
     ]
    }
   ],
   "source": [
    "def func1(x):\n",
    "    print(\"Something interesting happens with x = {}\".format(x))\n",
    "    \n",
    "def func2(x):\n",
    "    print(\"Wow! x = {}\".format(x))\n",
    "    \n",
    "func1('arg')\n",
    "print('\\n')\n",
    "func2('another_arg')"
   ]
  },
  {
   "cell_type": "code",
   "execution_count": 23,
   "metadata": {},
   "outputs": [],
   "source": [
    "def greeting_decorator(func):\n",
    "    def wrapped_func(x):\n",
    "        print(\"Hi\")\n",
    "        func(x)\n",
    "    return wrapped_func"
   ]
  },
  {
   "cell_type": "code",
   "execution_count": 24,
   "metadata": {},
   "outputs": [
    {
     "name": "stdout",
     "output_type": "stream",
     "text": [
      "Hi\n",
      "Something interesting happens with x = arg\n",
      "\n",
      "\n",
      "Hi\n",
      "Wow! x = another_arg\n"
     ]
    }
   ],
   "source": [
    "@greeting_decorator\n",
    "def func1(x):\n",
    "    print(\"Something interesting happens with x = {}\".format(x))\n",
    "    \n",
    "@greeting_decorator\n",
    "def func2(x):\n",
    "    print(\"Wow! x = {}\".format(x))\n",
    "    \n",
    "func1('arg')\n",
    "print('\\n')\n",
    "func2('another_arg')"
   ]
  },
  {
   "cell_type": "code",
   "execution_count": 25,
   "metadata": {},
   "outputs": [],
   "source": [
    "def greetings_name_decorator(name):\n",
    "    def real_greetings_name_decorator(function):\n",
    "        def wrapper(x):\n",
    "            print(\"Hi, {}\".format(name))\n",
    "            function(x)\n",
    "        return wrapper\n",
    "    return real_greetings_name_decorator"
   ]
  },
  {
   "cell_type": "code",
   "execution_count": 26,
   "metadata": {},
   "outputs": [
    {
     "name": "stdout",
     "output_type": "stream",
     "text": [
      "Hi, Lil\n",
      "Something interesting happens with x = arg\n",
      "\n",
      "\n",
      "Hi, Lil\n",
      "Wow! x = another_arg\n"
     ]
    }
   ],
   "source": [
    "@greetings_name_decorator(\"Lil\")\n",
    "def func1(x):\n",
    "    print(\"Something interesting happens with x = {}\".format(x))\n",
    "    \n",
    "@greetings_name_decorator(\"Lil\")\n",
    "def func2(x):\n",
    "    print(\"Wow! x = {}\".format(x))\n",
    "    \n",
    "func1('arg')\n",
    "print('\\n')\n",
    "func2('another_arg')"
   ]
  },
  {
   "cell_type": "code",
   "execution_count": 27,
   "metadata": {},
   "outputs": [],
   "source": [
    "import sys\n",
    "\n",
    "def error_decorator(func, _empty_response):\n",
    "    def wrapped(*args, **kwargs):\n",
    "        try:\n",
    "            result = func(*args, **kwargs)\n",
    "            error, error_traceback, success = None, '', True\n",
    "        except Exception as e:\n",
    "            error, error_traceback = e.__class__.__name__, str(sys.exc_info())\n",
    "            result = _empty_response()\n",
    "            success = False\n",
    "        return {\"result\" : result, \"success\" : success, \"error\" : error, \"error_traceback\" : error_traceback}\n",
    "    return wrapped"
   ]
  },
  {
   "cell_type": "code",
   "execution_count": null,
   "metadata": {},
   "outputs": [],
   "source": []
  },
  {
   "cell_type": "markdown",
   "metadata": {},
   "source": [
    "# Class"
   ]
  },
  {
   "cell_type": "markdown",
   "metadata": {},
   "source": [
    "### Common usage"
   ]
  },
  {
   "cell_type": "code",
   "execution_count": 126,
   "metadata": {},
   "outputs": [
    {
     "name": "stdout",
     "output_type": "stream",
     "text": [
      "The shark Sonya is swimming.\n",
      "The shark Sonya is being awesome.\n"
     ]
    }
   ],
   "source": [
    "class Complex:\n",
    "    def __init__(self, realpart, imagpart):\n",
    "        self.r = realpart\n",
    "        self.i = imagpart\n",
    "        \n",
    "        \n",
    "class Shark:\n",
    "    def __init__(self, name):\n",
    "        self.name = name\n",
    "        \n",
    "    def swim(self):\n",
    "        print(\"The shark {} is swimming.\".format(self.name))\n",
    "        return 0\n",
    "\n",
    "    def be_awesome(self):\n",
    "        print(\"The shark {} is being awesome.\".format(self.name))\n",
    "        \n",
    "shark = Shark(\"Sonya\")\n",
    "shark.swim()\n",
    "shark.be_awesome()"
   ]
  },
  {
   "cell_type": "markdown",
   "metadata": {},
   "source": [
    "### Dunder methods"
   ]
  },
  {
   "cell_type": "markdown",
   "metadata": {},
   "source": [
    "#### Creation, Calling, and Destruction"
   ]
  },
  {
   "cell_type": "code",
   "execution_count": 29,
   "metadata": {},
   "outputs": [
    {
     "data": {
      "text/plain": [
       "mappingproxy({'__dict__': <attribute '__dict__' of 'Shark' objects>,\n",
       "              '__doc__': None,\n",
       "              '__init__': <function __main__.Shark.__init__(self, name)>,\n",
       "              '__module__': '__main__',\n",
       "              '__weakref__': <attribute '__weakref__' of 'Shark' objects>,\n",
       "              'be_awesome': <function __main__.Shark.be_awesome(self)>,\n",
       "              'swim': <function __main__.Shark.swim(self)>})"
      ]
     },
     "execution_count": 29,
     "metadata": {},
     "output_type": "execute_result"
    }
   ],
   "source": [
    "Shark.__dict__"
   ]
  },
  {
   "cell_type": "code",
   "execution_count": 58,
   "metadata": {},
   "outputs": [
    {
     "data": {
      "text/plain": [
       "['__class__',\n",
       " '__delattr__',\n",
       " '__dict__',\n",
       " '__dir__',\n",
       " '__doc__',\n",
       " '__eq__',\n",
       " '__format__',\n",
       " '__ge__',\n",
       " '__getattribute__',\n",
       " '__gt__',\n",
       " '__hash__',\n",
       " '__init__',\n",
       " '__init_subclass__',\n",
       " '__le__',\n",
       " '__lt__',\n",
       " '__module__',\n",
       " '__ne__',\n",
       " '__new__',\n",
       " '__reduce__',\n",
       " '__reduce_ex__',\n",
       " '__repr__',\n",
       " '__setattr__',\n",
       " '__sizeof__',\n",
       " '__str__',\n",
       " '__subclasshook__',\n",
       " '__weakref__',\n",
       " 'be_awesome',\n",
       " 'swim']"
      ]
     },
     "execution_count": 58,
     "metadata": {},
     "output_type": "execute_result"
    }
   ],
   "source": [
    "dir(Shark)"
   ]
  },
  {
   "cell_type": "markdown",
   "metadata": {},
   "source": [
    "### Class decorators"
   ]
  },
  {
   "cell_type": "code",
   "execution_count": 36,
   "metadata": {},
   "outputs": [
    {
     "name": "stdout",
     "output_type": "stream",
     "text": [
      "decorating\n",
      "starting timer\n",
      "Elapsed Time = 0:00:00.000030\n"
     ]
    },
    {
     "data": {
      "text/plain": [
       "1"
      ]
     },
     "execution_count": 36,
     "metadata": {},
     "output_type": "execute_result"
    }
   ],
   "source": [
    "import datetime                 \n",
    "import time\n",
    "\n",
    "def time_this(original_function):      \n",
    "    print(\"decorating\")                      \n",
    "    def new_function(*args,**kwargs):\n",
    "        print(\"starting timer\")       \n",
    "        before = datetime.datetime.now()                     \n",
    "        x = original_function(*args,**kwargs)                \n",
    "        after = datetime.datetime.now()                      \n",
    "        print(\"Elapsed Time = {0}\".format(after-before))    \n",
    "        return x                                             \n",
    "    return new_function \n",
    "\n",
    "class X:\n",
    "    def __init__(self):\n",
    "        pass\n",
    "    \n",
    "    @time_this\n",
    "    def foo(self, x):\n",
    "        return x**4\n",
    "    \n",
    "x = X()\n",
    "x.__getattribute__('foo')(1)\n"
   ]
  },
  {
   "cell_type": "code",
   "execution_count": 37,
   "metadata": {},
   "outputs": [
    {
     "ename": "TypeError",
     "evalue": "foo() takes 0 positional arguments but 1 was given",
     "output_type": "error",
     "traceback": [
      "\u001b[0;31m---------------------------------------------------------------------------\u001b[0m",
      "\u001b[0;31mTypeError\u001b[0m                                 Traceback (most recent call last)",
      "\u001b[0;32m<ipython-input-37-a9edc735bc6b>\u001b[0m in \u001b[0;36m<module>\u001b[0;34m()\u001b[0m\n\u001b[0;32m----> 1\u001b[0;31m \u001b[0mfoo\u001b[0m\u001b[0;34m(\u001b[0m\u001b[0;36m4\u001b[0m\u001b[0;34m)\u001b[0m\u001b[0;34m\u001b[0m\u001b[0m\n\u001b[0m",
      "\u001b[0;31mTypeError\u001b[0m: foo() takes 0 positional arguments but 1 was given"
     ]
    }
   ],
   "source": [
    "foo(4)"
   ]
  },
  {
   "cell_type": "code",
   "execution_count": 38,
   "metadata": {},
   "outputs": [
    {
     "name": "stdout",
     "output_type": "stream",
     "text": [
      "decorating\n",
      "starting timer\n",
      "entering a\n",
      "exiting a\n",
      "Elapsed Time = 0:00:03.002761\n"
     ]
    }
   ],
   "source": [
    "def time_all_class_methods(Cls):\n",
    "    class NewCls(object):\n",
    "        def __init__(self,*args,**kwargs):\n",
    "            self.oInstance = Cls(*args,**kwargs)\n",
    "        def __getattribute__(self,s):\n",
    "            \"\"\"\n",
    "            this is called whenever any attribute of a NewCls object is accessed. This function first tries to \n",
    "            get the attribute off NewCls. If it fails then it tries to fetch the attribute from self.oInstance (an\n",
    "            instance of the decorated class). If it manages to fetch the attribute from self.oInstance, and \n",
    "            the attribute is an instance method then `time_this` is applied.\n",
    "            \"\"\"\n",
    "            try:    \n",
    "                x = super(NewCls,self).__getattribute__(s)\n",
    "            except AttributeError:      \n",
    "                pass\n",
    "            else:\n",
    "                return x\n",
    "            x = self.oInstance.__getattribute__(s)\n",
    "            if type(x) == type(self.__init__): # it is an instance method\n",
    "                return time_this(x)  # this is equivalent of just decorating the method with time_this\n",
    "            else:\n",
    "                return x\n",
    "    return NewCls\n",
    "\n",
    "#now lets make a dummy class to test it out on:\n",
    "\n",
    "@time_all_class_methods\n",
    "class Foo(object):\n",
    "    def a(self):\n",
    "        print(\"entering a\")\n",
    "        time.sleep(3)\n",
    "        print(\"exiting a\")\n",
    "\n",
    "oF = Foo()\n",
    "oF.a()"
   ]
  },
  {
   "cell_type": "markdown",
   "metadata": {},
   "source": [
    "# Homework"
   ]
  },
  {
   "cell_type": "markdown",
   "metadata": {},
   "source": [
    "1. Function factorial with inner cache\n",
    "2. Function takes obj and creates dictionary with method names as keys and result of calling this methods as values\n",
    "3. Class of rotations of a square\n",
    "4. Singleton"
   ]
  },
  {
   "cell_type": "code",
   "execution_count": 77,
   "metadata": {},
   "outputs": [
    {
     "name": "stdout",
     "output_type": "stream",
     "text": [
      "decorating\n",
      "starting timer\n",
      "Elapsed Time = 0:00:00.000046\n",
      "starting timer\n",
      "Elapsed Time = 0:00:00.000013\n",
      "starting timer\n",
      "Elapsed Time = 0:00:00.000013\n"
     ]
    },
    {
     "data": {
      "text/plain": [
       "138683118545689835737939019720389406345902876772687432540821294940160000000000000"
      ]
     },
     "execution_count": 77,
     "metadata": {},
     "output_type": "execute_result"
    }
   ],
   "source": [
    "# 1\n",
    "@time_this\n",
    "def fact(num:int, cache={}):\n",
    "    try:\n",
    "        return cache[num]\n",
    "    except:\n",
    "        sum = 1\n",
    "        for x in range(1,num):\n",
    "            sum *= x\n",
    "        cache[num] = sum\n",
    "        return sum\n",
    "\n",
    "fact(60)\n",
    "fact(60)\n",
    "fact(60)"
   ]
  },
  {
   "cell_type": "code",
   "execution_count": 128,
   "metadata": {},
   "outputs": [
    {
     "name": "stdout",
     "output_type": "stream",
     "text": [
      "The shark Zoya is being awesome.\n",
      "The shark Zoya is swimming.\n"
     ]
    },
    {
     "data": {
      "text/plain": [
       "{'be_awesome': None, 'swim': 0}"
      ]
     },
     "execution_count": 128,
     "metadata": {},
     "output_type": "execute_result"
    }
   ],
   "source": [
    "# 2\n",
    "def get_methods(obj):\n",
    "    return {item :obj.__getattribute__(item)() for item in obj.__dir__() \n",
    "            if callable(obj.__getattribute__(item)) and item[:2] != '__'}\n",
    "\n",
    "# Shark('Zoya').__getattribute__('swim')()\n",
    "\n",
    "get_methods(Shark('Zoya'))\n",
    "# x.__dir__()"
   ]
  },
  {
   "cell_type": "code",
   "execution_count": 76,
   "metadata": {},
   "outputs": [
    {
     "name": "stdout",
     "output_type": "stream",
     "text": [
      "[[1 2]\n",
      " [3 4]]\n",
      "[[2 4]\n",
      " [1 3]]\n"
     ]
    }
   ],
   "source": [
    "#  3\n",
    "import numpy as np\n",
    "\n",
    "class Rotation(object):\n",
    "    _our_instances = {} \n",
    "    \n",
    "    def __new__(cls, angle):\n",
    "        rot_num = (angle // 90) % 4\n",
    "        if rot_num in Rotation._our_instances.keys():\n",
    "            instance = Rotation._our_instances[rot_num]\n",
    "        else:\n",
    "            instance = object.__new__(cls)\n",
    "            Rotation._our_instances[rot_num] = instance\n",
    "        return instance\n",
    "\n",
    "    def __add__(self, other):\n",
    "        rot_num = (self.rot_num + other.rot_num) % 4\n",
    "        return Rotation(rot_num * 90)\n",
    "    \n",
    "    def __init__(self, angle:int):\n",
    "        self.__class__ = type(self.__class__.__name__, (self.__class__,), {})\n",
    "        self.rot_num = (angle // 90) % 4\n",
    "        \n",
    "#         self.__class__.__call__ = self.make_rotation()\n",
    "    def __call__(self, mat):\n",
    "        return self.make_rotation()(mat)\n",
    "        \n",
    "    def make_rotation(self):\n",
    "        rot_num = self.rot_num\n",
    "        ar = self.rot0\n",
    "        if rot_num == 1:\n",
    "            ar = self.rot90\n",
    "        if rot_num == 2:\n",
    "            ar=self.rot180\n",
    "        if rot_num == 3:\n",
    "            ar=self.rot270\n",
    "        return ar\n",
    "    \n",
    "    def rot0(self,mat:np.array):\n",
    "        return mat\n",
    "    \n",
    "    def rot90(self,mat:np.array):\n",
    "        return np.rot90(mat)\n",
    "        \n",
    "    def rot180(self,mat:np.array):\n",
    "        return np.rot90(np.rot90(mat))\n",
    "    \n",
    "    def rot270(self,mat:np.array):\n",
    "        return np.rot90(np.rot90(np.rot90(mat)))\n",
    "    \n",
    "        \n",
    "ar = np.array([[1,2],[3,4]])\n",
    "print(ar)\n",
    "r180 = Rotation(180)\n",
    "r90 = Rotation(90)\n",
    "print(r90(ar))\n",
    "assert r90 + r180 == Rotation(270)"
   ]
  },
  {
   "cell_type": "code",
   "execution_count": 74,
   "metadata": {},
   "outputs": [],
   "source": [
    "# 4\n",
    "class SingleTon:\n",
    "    _instance = None  # Keep instance reference \n",
    "    \n",
    "    def __new__(cls, *args, **kwargs):\n",
    "        if not cls._instance:\n",
    "            cls._instance = object.__new__(cls, *args, **kwargs)\n",
    "        return cls._instance"
   ]
  },
  {
   "cell_type": "code",
   "execution_count": 75,
   "metadata": {},
   "outputs": [],
   "source": [
    "s1 = SingleTon()\n",
    "s2 = SingleTon()\n",
    "assert s1 is s2"
   ]
  }
 ],
 "metadata": {
  "kernelspec": {
   "display_name": "Python 3",
   "language": "python",
   "name": "python3"
  },
  "language_info": {
   "codemirror_mode": {
    "name": "ipython",
    "version": 3
   },
   "file_extension": ".py",
   "mimetype": "text/x-python",
   "name": "python",
   "nbconvert_exporter": "python",
   "pygments_lexer": "ipython3",
   "version": "3.5.2"
  }
 },
 "nbformat": 4,
 "nbformat_minor": 2
}
